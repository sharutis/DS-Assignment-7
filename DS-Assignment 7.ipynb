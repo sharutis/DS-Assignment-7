{
 "cells": [
  {
   "cell_type": "markdown",
   "id": "876bde28",
   "metadata": {},
   "source": [
    "Consider the graph presented below. Write a function to print the adjacency list for the graph."
   ]
  },
  {
   "cell_type": "code",
   "execution_count": null,
   "id": "b1a4ffff",
   "metadata": {},
   "outputs": [],
   "source": [
    "graph = {\n",
    "    \"A\": [\"B\", \"C\"],\n",
    "    \"B\": [\"A\", \"D\"],\n",
    "    \"C\": [\"A\"],\n",
    "    \"D\": [\"B\"]\n",
    "}"
   ]
  },
  {
   "cell_type": "code",
   "execution_count": 1,
   "id": "0fa9900c-5009-4550-8f59-31f06b9e5ae7",
   "metadata": {},
   "outputs": [
    {
     "name": "stdout",
     "output_type": "stream",
     "text": [
      "Adjacency List:\n",
      "A -> B, C\n",
      "B -> A, D\n",
      "C -> A\n",
      "D -> B\n"
     ]
    }
   ],
   "source": [
    "def print_adjacency_list(graph):\n",
    "    \"\"\"\n",
    "    Print the adjacency list of the given graph.\n",
    "    Args:\n",
    "        graph (dict): A dictionary representing the graph with nodes as keys\n",
    "                      and lists of adjacent nodes as values.\n",
    "    \"\"\"\n",
    "    print(\"Adjacency List:\")\n",
    "    for node, neighbors in graph.items():\n",
    "        print(f\"{node} -> {', '.join(neighbors)}\")\n",
    "\n",
    "# Example Graph\n",
    "graph = {\n",
    "    \"A\": [\"B\", \"C\"],\n",
    "    \"B\": [\"A\", \"D\"],\n",
    "    \"C\": [\"A\"],\n",
    "    \"D\": [\"B\"]\n",
    "}\n",
    "\n",
    "# Call the function to print the adjacency list\n",
    "print_adjacency_list(graph)"
   ]
  },
  {
   "cell_type": "code",
   "execution_count": null,
   "id": "80d957b0-4814-4cd4-9cea-6da9d3ea6211",
   "metadata": {},
   "outputs": [],
   "source": []
  }
 ],
 "metadata": {
  "kernelspec": {
   "display_name": "Python 3 (ipykernel)",
   "language": "python",
   "name": "python3"
  },
  "language_info": {
   "codemirror_mode": {
    "name": "ipython",
    "version": 3
   },
   "file_extension": ".py",
   "mimetype": "text/x-python",
   "name": "python",
   "nbconvert_exporter": "python",
   "pygments_lexer": "ipython3",
   "version": "3.12.5"
  }
 },
 "nbformat": 4,
 "nbformat_minor": 5
}
